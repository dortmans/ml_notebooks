{
  "nbformat": 4,
  "nbformat_minor": 0,
  "metadata": {
    "colab": {
      "name": "ML_Workshop.ipynb",
      "provenance": [],
      "collapsed_sections": [],
      "include_colab_link": true
    },
    "kernelspec": {
      "name": "python3",
      "display_name": "Python 3"
    }
  },
  "cells": [
    {
      "cell_type": "markdown",
      "metadata": {
        "id": "view-in-github",
        "colab_type": "text"
      },
      "source": [
        "<a href=\"https://colab.research.google.com/github/dortmans/ml_notebooks/blob/master/ML_Workshop.ipynb\" target=\"_parent\"><img src=\"https://colab.research.google.com/assets/colab-badge.svg\" alt=\"Open In Colab\"/></a>"
      ]
    },
    {
      "cell_type": "markdown",
      "metadata": {
        "id": "FEuR8n3P9vaQ",
        "colab_type": "text"
      },
      "source": [
        "# Machine Learning Workshop\n",
        "\n",
        "Following are a set of exercises."
      ]
    },
    {
      "cell_type": "markdown",
      "metadata": {
        "colab_type": "text",
        "id": "FZjsZSRP-rCp"
      },
      "source": [
        "## 1. Experience Machine Learning\n",
        "\n",
        "Goal: Experience what you can do with machine learning.\n",
        "\n",
        "We will use Google's [Teachable Machine](https://teachablemachine.withgoogle.com/).\n",
        "\n",
        "Start with the Image Project.\n",
        "\n",
        "You will need the webcam of your laptop.\n",
        "\n",
        "Questions:\n",
        "- Could you have done this without machine learning?\n",
        "- Any idea how it works?\n",
        "- \"Training > Advanced\": Any idea what the parameters \"Epochs\", \"Batch Size\" and \"Learning Rate\" do?\n",
        "\n"
      ]
    },
    {
      "cell_type": "markdown",
      "metadata": {
        "id": "RNptgZcS_JKj",
        "colab_type": "text"
      },
      "source": [
        "## 2. Regression & Classification\n",
        "\n",
        "Goal: Get a feeling for the concepts of \"regression\" and \"classification\" and the role of \"layers\", \"neurons\" and \"activation functions\".\n",
        "\n",
        "### Toy regression problem\n",
        "\n",
        "Open [ConvNetJS - Deep Learning in your browser](https://cs.stanford.edu/people/karpathy/convnetjs/demo/regression.html)\n",
        "\n",
        "Remove the two hidden \"fc\" layers:\n",
        "\n",
        "\tlayer_defs.push({type:'fc', num_neurons:20, activation:'relu'});\n",
        "\tlayer_defs.push({type:'fc', num_neurons:20, activation:'sigmoid'});\n",
        "\n",
        "Question: What is the effect?\n",
        "\n",
        "Experience the role of neurons and activation function:\n",
        "- Add one hidden \"fc\" layer with activation \"sigmoid\" and  \"num_neurons:2\"\n",
        "- Increase number of neurons.\n",
        "- Change activation to \"relu\".\n",
        "\n",
        "Question: What are the effects?\n",
        "\n",
        "### Toy classification problem\n",
        "\n",
        "Open [TensorFlow Playground](https://playground.tensorflow.org/)\n",
        "\n",
        "Check \"Discretize output\"\n",
        "\n",
        "Try to classify (separate blue and orange samples) for the each dataset\n",
        "- Start with 0 hidden layer (1 neuron)\n",
        "- Add 1 hidden layers\n",
        "- Increase the number of neurons\n",
        "- Try various activation functions\n",
        "etc.\n",
        "\n",
        "Question: What is the minimum number of layers and neurons to classify each of the datasets?"
      ]
    },
    {
      "cell_type": "markdown",
      "metadata": {
        "id": "WS4ODWR94Ns_",
        "colab_type": "text"
      },
      "source": [
        "## 3. Accuracy, Precision, Recall\n",
        "\n",
        "Goal: Understanding quality measures\n",
        "\n",
        "Confusion Matrix Playground\n",
        "https://zackakil.github.io/precision-recall-playground/\n",
        "\n",
        "Lookup: [F1 score](https://en.wikipedia.org/wiki/F1_score)\n",
        "\n",
        "Questions:\n",
        "- How good is 50% accuracy?\n",
        "- What about 63% accuracy?\n",
        "- What would be the effect if we had much more food than non-food pictures?\n",
        "- Which one is more important: precision or recall?"
      ]
    },
    {
      "cell_type": "markdown",
      "metadata": {
        "id": "Inso84ls5nxH",
        "colab_type": "text"
      },
      "source": [
        "## 4. Your First Convolutional Neural Network\n",
        "\n",
        "Goal: Experience the steps involved in defining and training a neural network.\n",
        "\n",
        "Read the blog [Keras for Beginners: Implementing a Convolutional Neural Network](https://victorzhou.com/blog/keras-cnn-tutorial/) and run the corresponding code step by step using the [this notebook](https://colab.research.google.com/github/dortmans/ml_notebooks/blob/master/MNIST_Zhou.ipynb).\n",
        "\n",
        "Implement the extensions as described in \"8. Extensions\".\n",
        "\n",
        "You will need a Google account to be able to run code in Google's [Colab](https://colab.research.google.com).\n",
        "\n",
        "Colab Tips:\n",
        "- Use the GPU: Edit > Notebook settings > Hardware accelerator > GPU\n",
        "- In case of Keras problems: !pip install keras --upgrade\n",
        "\n",
        "Questions:\n",
        "- "
      ]
    },
    {
      "cell_type": "markdown",
      "metadata": {
        "id": "2vy5qA9C6Iqu",
        "colab_type": "text"
      },
      "source": [
        "## 5. Using a Pre-Trained Network"
      ]
    }
  ]
}