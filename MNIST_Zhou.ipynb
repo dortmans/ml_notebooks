{
  "nbformat": 4,
  "nbformat_minor": 0,
  "metadata": {
    "colab": {
      "name": "MNIST_Zhou.ipynb",
      "provenance": [],
      "collapsed_sections": [],
      "include_colab_link": true
    },
    "kernelspec": {
      "name": "python3",
      "display_name": "Python 3"
    }
  },
  "cells": [
    {
      "cell_type": "markdown",
      "metadata": {
        "id": "view-in-github",
        "colab_type": "text"
      },
      "source": [
        "<a href=\"https://colab.research.google.com/github/dortmans/ml_notebooks/blob/master/MNIST_Zhou.ipynb\" target=\"_parent\"><img src=\"https://colab.research.google.com/assets/colab-badge.svg\" alt=\"Open In Colab\"/></a>"
      ]
    },
    {
      "cell_type": "markdown",
      "metadata": {
        "id": "tNRdzWINIP5L",
        "colab_type": "text"
      },
      "source": [
        "# MNIST handwritten digit classification\n",
        "\n",
        "This is a slightly modified version of the code as described in the blog \"[Keras for Beginners: Implementing a Convolutional Neural Network](https://victorzhou.com/blog/keras-cnn-tutorial/)\" by Victor Zhou.\n",
        "\n",
        "---\n",
        "\n"
      ]
    },
    {
      "cell_type": "markdown",
      "metadata": {
        "id": "t0BvihbgW26V",
        "colab_type": "text"
      },
      "source": [
        "# 1. Setup\n",
        "\n",
        "Import required libraries"
      ]
    },
    {
      "cell_type": "code",
      "metadata": {
        "id": "ynuCN9SWXbIO",
        "colab_type": "code",
        "colab": {}
      },
      "source": [
        "import numpy as np\n",
        "from keras.datasets import mnist\n",
        "from keras.models import Sequential\n",
        "from keras.layers import Conv2D, MaxPooling2D, Dense, Flatten\n",
        "from keras.utils import to_categorical\n",
        "import matplotlib.pyplot as plt"
      ],
      "execution_count": 0,
      "outputs": []
    },
    {
      "cell_type": "markdown",
      "metadata": {
        "id": "kxmx_CRiYehe",
        "colab_type": "text"
      },
      "source": [
        "# 2. Preparing the Data\n",
        "\n",
        "Download the MNIST dataset"
      ]
    },
    {
      "cell_type": "code",
      "metadata": {
        "id": "aifsmWDRYOqO",
        "colab_type": "code",
        "colab": {}
      },
      "source": [
        "(train_images, train_labels), (test_images, test_labels) = mnist.load_data()\n",
        "\n",
        "print(train_images.shape) # (60000, 28, 28)\n",
        "print(train_labels.shape) # (60000,)"
      ],
      "execution_count": 0,
      "outputs": []
    },
    {
      "cell_type": "markdown",
      "metadata": {
        "id": "hXWMWMxcjwIE",
        "colab_type": "text"
      },
      "source": [
        "Show one sample image from the dataset."
      ]
    },
    {
      "cell_type": "code",
      "metadata": {
        "id": "AqpoSGtbj80r",
        "colab_type": "code",
        "colab": {}
      },
      "source": [
        "image_index = 0 # You may select anything up to 60000\n",
        "print(train_labels[image_index])\n",
        "plt.imshow(train_images[image_index].reshape(28, 28), cmap='Greys')"
      ],
      "execution_count": 0,
      "outputs": []
    },
    {
      "cell_type": "markdown",
      "metadata": {
        "id": "KX3AmCP3ZuHh",
        "colab_type": "text"
      },
      "source": [
        "Normalize the image pixel values from [0, 255] to [-0.5, 0.5] to make our network easier to train"
      ]
    },
    {
      "cell_type": "code",
      "metadata": {
        "id": "6oOYQ1aOaDH_",
        "colab_type": "code",
        "colab": {}
      },
      "source": [
        "train_images = (train_images / 255) - 0.5\n",
        "test_images = (test_images / 255) - 0.5"
      ],
      "execution_count": 0,
      "outputs": []
    },
    {
      "cell_type": "markdown",
      "metadata": {
        "id": "pwu4s1KwaOF-",
        "colab_type": "text"
      },
      "source": [
        "Reshape the images from (28, 28) to (28, 28, 1) because Keras requires the third dimension."
      ]
    },
    {
      "cell_type": "code",
      "metadata": {
        "id": "_aMEgzSMa2Dy",
        "colab_type": "code",
        "colab": {}
      },
      "source": [
        "train_images = np.expand_dims(train_images, axis=3)\n",
        "test_images = np.expand_dims(test_images, axis=3)"
      ],
      "execution_count": 0,
      "outputs": []
    },
    {
      "cell_type": "markdown",
      "metadata": {
        "id": "ddTUR_U4bKRr",
        "colab_type": "text"
      },
      "source": [
        "# 3. Building the Model"
      ]
    },
    {
      "cell_type": "code",
      "metadata": {
        "id": "uNCjYNylbOrv",
        "colab_type": "code",
        "colab": {}
      },
      "source": [
        "num_filters = 8\n",
        "filter_size = 3\n",
        "pool_size = 2\n",
        "\n",
        "# Build the model.\n",
        "model = Sequential([\n",
        "  Conv2D(num_filters, filter_size, input_shape=(28, 28, 1)),\n",
        "  MaxPooling2D(pool_size=pool_size),\n",
        "  Flatten(),\n",
        "  Dense(10, activation='softmax'),\n",
        "])\n",
        "\n",
        "print(model.summary())"
      ],
      "execution_count": 0,
      "outputs": []
    },
    {
      "cell_type": "markdown",
      "metadata": {
        "id": "GJ_PRvGobwJH",
        "colab_type": "text"
      },
      "source": [
        "# 4. Compiling the Model"
      ]
    },
    {
      "cell_type": "code",
      "metadata": {
        "id": "HxkLioNKb0Hg",
        "colab_type": "code",
        "colab": {}
      },
      "source": [
        "model.compile(\n",
        "  'adam',\n",
        "  loss='categorical_crossentropy',\n",
        "  metrics=['accuracy'],\n",
        ")"
      ],
      "execution_count": 0,
      "outputs": []
    },
    {
      "cell_type": "markdown",
      "metadata": {
        "id": "ibRzWVvDb8Xm",
        "colab_type": "text"
      },
      "source": [
        "# 5. Training the Model"
      ]
    },
    {
      "cell_type": "code",
      "metadata": {
        "id": "NiG9-zgGcEj_",
        "colab_type": "code",
        "colab": {}
      },
      "source": [
        "model.fit(\n",
        "  train_images,\n",
        "  to_categorical(train_labels),\n",
        "  epochs=12,\n",
        "  validation_data=(test_images, to_categorical(test_labels)),\n",
        ")\n",
        "\n",
        "# Save the model weights for later use.\n",
        "model.save_weights('mnist.h5')"
      ],
      "execution_count": 0,
      "outputs": []
    },
    {
      "cell_type": "markdown",
      "metadata": {
        "id": "TyAVoDaEckah",
        "colab_type": "text"
      },
      "source": [
        "# 6. Using the Model"
      ]
    },
    {
      "cell_type": "code",
      "metadata": {
        "id": "8aTr5JHNK4pG",
        "colab_type": "code",
        "colab": {}
      },
      "source": [
        "# Load the model from disk later using:\n",
        "model.load_weights('mnist.h5')\n",
        "\n",
        "# Predict on the first 5 test images.\n",
        "predictions = model.predict(test_images[:10])\n",
        "\n",
        "# Print our model's predictions.\n",
        "print(np.argmax(predictions, axis=1))\n",
        "\n",
        "# Check our predictions against the ground truths.\n",
        "print(test_labels[:10])"
      ],
      "execution_count": 0,
      "outputs": []
    }
  ]
}